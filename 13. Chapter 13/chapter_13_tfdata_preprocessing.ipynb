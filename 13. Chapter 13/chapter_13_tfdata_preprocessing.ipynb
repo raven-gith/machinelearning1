{
  "cells": [
    {
      "cell_type": "markdown",
      "metadata": {
        "id": "view-in-github",
        "colab_type": "text"
      },
      "source": [
        "<a href=\"https://colab.research.google.com/github/raven-gith/machinelearning1/blob/main/13.%20Chapter%2013/chapter_13_tfdata_preprocessing.ipynb\" target=\"_parent\"><img src=\"https://colab.research.google.com/assets/colab-badge.svg\" alt=\"Open In Colab\"/></a>"
      ]
    },
    {
      "cell_type": "markdown",
      "id": "d393675b",
      "metadata": {
        "id": "d393675b"
      },
      "source": [
        "# Chapter 13: Loading and Preprocessing Data with TensorFlow\n",
        "\n",
        "Notebook ini mereproduksi dan menjelaskan isi Bab 13 dari buku _Hands-On Machine Learning with Scikit-Learn, Keras, and TensorFlow_ oleh Aurélien Géron.\n",
        "\n",
        "## 📘 Ringkasan Materi:\n",
        "\n",
        "Bab ini membahas cara menggunakan **`tf.data` API** untuk memuat dan memproses data secara efisien, terutama untuk pelatihan skala besar.\n",
        "\n",
        "### Materi utama:\n",
        "1. Membuat dataset dengan `tf.data.Dataset`\n",
        "2. Operasi chaining: `map()`, `shuffle()`, `batch()`, `prefetch()`\n",
        "3. Preprocessing gambar (image loading pipeline)\n",
        "4. Integrasi pipeline ke dalam training model\n"
      ]
    },
    {
      "cell_type": "code",
      "execution_count": 1,
      "id": "e6cde482",
      "metadata": {
        "colab": {
          "base_uri": "https://localhost:8080/"
        },
        "id": "e6cde482",
        "outputId": "53ecffdf-cd56-484a-96ba-322e34463df3"
      },
      "outputs": [
        {
          "output_type": "stream",
          "name": "stdout",
          "text": [
            "x: 0, y: 0\n",
            "x: 1, y: 2\n",
            "x: 2, y: 4\n",
            "x: 3, y: 6\n",
            "x: 4, y: 8\n",
            "x: 5, y: 10\n",
            "x: 6, y: 12\n",
            "x: 7, y: 14\n",
            "x: 8, y: 16\n",
            "x: 9, y: 18\n"
          ]
        }
      ],
      "source": [
        "\n",
        "import tensorflow as tf\n",
        "import numpy as np\n",
        "\n",
        "# Dataset dummy\n",
        "X = np.arange(10)\n",
        "y = X * 2\n",
        "\n",
        "dataset = tf.data.Dataset.from_tensor_slices((X, y))\n",
        "for x_val, y_val in dataset:\n",
        "    print(f\"x: {x_val.numpy()}, y: {y_val.numpy()}\")\n"
      ]
    },
    {
      "cell_type": "code",
      "execution_count": 2,
      "id": "f2f96731",
      "metadata": {
        "colab": {
          "base_uri": "https://localhost:8080/"
        },
        "id": "f2f96731",
        "outputId": "eb3be6c6-157e-4d58-84ba-829f8c27403d"
      },
      "outputs": [
        {
          "output_type": "stream",
          "name": "stdout",
          "text": [
            "(<tf.Tensor: shape=(4,), dtype=int64, numpy=array([7, 6, 3, 4])>, <tf.Tensor: shape=(4,), dtype=int64, numpy=array([14, 12,  6,  8])>)\n",
            "(<tf.Tensor: shape=(4,), dtype=int64, numpy=array([8, 0, 1, 2])>, <tf.Tensor: shape=(4,), dtype=int64, numpy=array([16,  0,  2,  4])>)\n",
            "(<tf.Tensor: shape=(2,), dtype=int64, numpy=array([5, 9])>, <tf.Tensor: shape=(2,), dtype=int64, numpy=array([10, 18])>)\n"
          ]
        }
      ],
      "source": [
        "\n",
        "# Pipeline\n",
        "BATCH_SIZE = 4\n",
        "ds = dataset.shuffle(buffer_size=10).batch(BATCH_SIZE).prefetch(1)\n",
        "\n",
        "for batch in ds:\n",
        "    print(batch)\n"
      ]
    },
    {
      "cell_type": "code",
      "execution_count": 3,
      "id": "28eff451",
      "metadata": {
        "colab": {
          "base_uri": "https://localhost:8080/"
        },
        "id": "28eff451",
        "outputId": "2fcdb2d5-14e8-4671-d164-c79e86dfb600"
      },
      "outputs": [
        {
          "output_type": "stream",
          "name": "stdout",
          "text": [
            "Batch shape: (2, 32, 32, 3)\n",
            "Batch shape: (1, 32, 32, 3)\n"
          ]
        }
      ],
      "source": [
        "\n",
        "# Contoh pipeline image loading\n",
        "import os\n",
        "from tensorflow.keras.preprocessing.image import save_img\n",
        "\n",
        "# Simulasi 3 file gambar kecil 8x8\n",
        "img_dir = \"example_images\"\n",
        "os.makedirs(img_dir, exist_ok=True)\n",
        "for i in range(3):\n",
        "    img_array = np.random.rand(8, 8, 3) * 255\n",
        "    save_img(f\"{img_dir}/img_{i}.png\", img_array)\n",
        "\n",
        "# Buat dataset dari folder\n",
        "image_ds = tf.data.Dataset.list_files(f\"{img_dir}/*.png\")\n",
        "\n",
        "# Parsing function\n",
        "def process_img(filepath):\n",
        "    img = tf.io.read_file(filepath)\n",
        "    img = tf.image.decode_png(img, channels=3)\n",
        "    img = tf.image.resize(img, [32, 32]) / 255.0\n",
        "    return img\n",
        "\n",
        "# Apply pipeline\n",
        "image_ds = image_ds.map(process_img).batch(2)\n",
        "\n",
        "for batch in image_ds:\n",
        "    print(\"Batch shape:\", batch.shape)\n"
      ]
    }
  ],
  "metadata": {
    "colab": {
      "provenance": [],
      "include_colab_link": true
    },
    "language_info": {
      "name": "python"
    },
    "kernelspec": {
      "name": "python3",
      "display_name": "Python 3"
    }
  },
  "nbformat": 4,
  "nbformat_minor": 5
}