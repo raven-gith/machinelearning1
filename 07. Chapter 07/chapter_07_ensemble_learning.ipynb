{
  "cells": [
    {
      "cell_type": "markdown",
      "metadata": {
        "id": "view-in-github",
        "colab_type": "text"
      },
      "source": [
        "<a href=\"https://colab.research.google.com/github/raven-gith/machinelearning1/blob/main/07.%20Chapter%2007/chapter_07_ensemble_learning.ipynb\" target=\"_parent\"><img src=\"https://colab.research.google.com/assets/colab-badge.svg\" alt=\"Open In Colab\"/></a>"
      ]
    },
    {
      "cell_type": "markdown",
      "id": "a52805b1",
      "metadata": {
        "id": "a52805b1"
      },
      "source": [
        "# Chapter 7: Ensemble Learning and Random Forests\n",
        "\n",
        "Notebook ini mereproduksi dan menjelaskan isi Bab 7 dari buku _Hands-On Machine Learning with Scikit-Learn, Keras, and TensorFlow_ oleh Aurélien Géron.\n",
        "\n",
        "Topik utama:\n",
        "- Voting Classifier\n",
        "- Bagging dan Random Forest\n",
        "- Out-of-Bag evaluation\n",
        "- Boosting (AdaBoost & Gradient Boosting)\n"
      ]
    },
    {
      "cell_type": "code",
      "execution_count": 1,
      "id": "2301380d",
      "metadata": {
        "colab": {
          "base_uri": "https://localhost:8080/"
        },
        "id": "2301380d",
        "outputId": "2f061bc9-f486-4132-972e-73ef4f600bbb"
      },
      "outputs": [
        {
          "output_type": "stream",
          "name": "stdout",
          "text": [
            "LogisticRegression accuracy: 0.864\n",
            "DecisionTreeClassifier accuracy: 0.872\n",
            "SVC accuracy: 0.896\n",
            "VotingClassifier accuracy: 0.928\n"
          ]
        }
      ],
      "source": [
        "\n",
        "from sklearn.datasets import make_moons\n",
        "from sklearn.model_selection import train_test_split\n",
        "from sklearn.ensemble import VotingClassifier\n",
        "from sklearn.linear_model import LogisticRegression\n",
        "from sklearn.svm import SVC\n",
        "from sklearn.tree import DecisionTreeClassifier\n",
        "from sklearn.metrics import accuracy_score\n",
        "\n",
        "# Dataset\n",
        "X, y = make_moons(n_samples=500, noise=0.3, random_state=42)\n",
        "X_train, X_test, y_train, y_test = train_test_split(X, y, random_state=42)\n",
        "\n",
        "# Voting Classifier\n",
        "log_clf = LogisticRegression()\n",
        "tree_clf = DecisionTreeClassifier()\n",
        "svm_clf = SVC(probability=True)\n",
        "\n",
        "voting_clf = VotingClassifier(\n",
        "    estimators=[('lr', log_clf), ('dt', tree_clf), ('svc', svm_clf)],\n",
        "    voting='soft'\n",
        ")\n",
        "\n",
        "voting_clf.fit(X_train, y_train)\n",
        "for clf in (log_clf, tree_clf, svm_clf, voting_clf):\n",
        "    clf.fit(X_train, y_train)\n",
        "    y_pred = clf.predict(X_test)\n",
        "    print(clf.__class__.__name__, \"accuracy:\", accuracy_score(y_test, y_pred))\n"
      ]
    },
    {
      "cell_type": "code",
      "execution_count": 2,
      "id": "9c7b7ab9",
      "metadata": {
        "colab": {
          "base_uri": "https://localhost:8080/"
        },
        "id": "9c7b7ab9",
        "outputId": "50866e61-8e81-46d3-b638-56d1e87a5704"
      },
      "outputs": [
        {
          "output_type": "stream",
          "name": "stdout",
          "text": [
            "Random Forest accuracy: 0.928\n"
          ]
        }
      ],
      "source": [
        "\n",
        "from sklearn.ensemble import RandomForestClassifier\n",
        "\n",
        "rf_clf = RandomForestClassifier(n_estimators=100, max_leaf_nodes=16, n_jobs=-1, random_state=42)\n",
        "rf_clf.fit(X_train, y_train)\n",
        "\n",
        "y_pred_rf = rf_clf.predict(X_test)\n",
        "print(\"Random Forest accuracy:\", accuracy_score(y_test, y_pred_rf))\n"
      ]
    },
    {
      "cell_type": "code",
      "execution_count": 6,
      "id": "bf4551b3",
      "metadata": {
        "colab": {
          "base_uri": "https://localhost:8080/"
        },
        "id": "bf4551b3",
        "outputId": "018cf334-a2ce-43a3-858d-5bb3fcca7caa"
      },
      "outputs": [
        {
          "output_type": "stream",
          "name": "stderr",
          "text": [
            "/usr/local/lib/python3.11/dist-packages/sklearn/ensemble/_weight_boosting.py:519: FutureWarning: The parameter 'algorithm' is deprecated in 1.6 and has no effect. It will be removed in version 1.8.\n",
            "  warnings.warn(\n"
          ]
        },
        {
          "output_type": "stream",
          "name": "stdout",
          "text": [
            "AdaBoost accuracy: 0.896\n"
          ]
        }
      ],
      "source": [
        "\n",
        "from sklearn.ensemble import AdaBoostClassifier\n",
        "\n",
        "ada_clf = AdaBoostClassifier(\n",
        "    DecisionTreeClassifier(max_depth=1),\n",
        "    n_estimators=200,\n",
        "    algorithm=\"SAMME\",\n",
        "    learning_rate=0.5,\n",
        "    random_state=42\n",
        ")\n",
        "\n",
        "ada_clf.fit(X_train, y_train)\n",
        "y_pred_ada = ada_clf.predict(X_test)\n",
        "print(\"AdaBoost accuracy:\", accuracy_score(y_test, y_pred_ada))\n"
      ]
    },
    {
      "cell_type": "code",
      "execution_count": 5,
      "id": "4e2b98eb",
      "metadata": {
        "colab": {
          "base_uri": "https://localhost:8080/"
        },
        "id": "4e2b98eb",
        "outputId": "fda04712-8f2a-4711-eacb-fdf24b2fee72"
      },
      "outputs": [
        {
          "output_type": "stream",
          "name": "stdout",
          "text": [
            "Gradient Boosting accuracy: 0.888\n"
          ]
        }
      ],
      "source": [
        "\n",
        "from sklearn.ensemble import GradientBoostingClassifier\n",
        "\n",
        "gb_clf = GradientBoostingClassifier(n_estimators=100, learning_rate=0.1, max_depth=3, random_state=42)\n",
        "gb_clf.fit(X_train, y_train)\n",
        "\n",
        "y_pred_gb = gb_clf.predict(X_test)\n",
        "print(\"Gradient Boosting accuracy:\", accuracy_score(y_test, y_pred_gb))\n"
      ]
    }
  ],
  "metadata": {
    "colab": {
      "provenance": [],
      "include_colab_link": true
    },
    "language_info": {
      "name": "python"
    },
    "kernelspec": {
      "name": "python3",
      "display_name": "Python 3"
    }
  },
  "nbformat": 4,
  "nbformat_minor": 5
}