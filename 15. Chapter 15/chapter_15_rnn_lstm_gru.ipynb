{
  "cells": [
    {
      "cell_type": "markdown",
      "metadata": {
        "id": "view-in-github",
        "colab_type": "text"
      },
      "source": [
        "<a href=\"https://colab.research.google.com/github/raven-gith/machinelearning1/blob/main/15.%20Chapter%2015/chapter_15_rnn_lstm_gru.ipynb\" target=\"_parent\"><img src=\"https://colab.research.google.com/assets/colab-badge.svg\" alt=\"Open In Colab\"/></a>"
      ]
    },
    {
      "cell_type": "markdown",
      "id": "8cd1665e",
      "metadata": {
        "id": "8cd1665e"
      },
      "source": [
        "# Chapter 15: Processing Sequences Using RNNs and LSTMs\n",
        "\n",
        "Notebook ini mereproduksi dan menjelaskan isi Bab 15 dari buku _Hands-On Machine Learning with Scikit-Learn, Keras, and TensorFlow_ oleh Aurélien Géron.\n",
        "\n",
        "## 📘 Ringkasan Materi:\n",
        "\n",
        "Bab ini membahas pemrosesan data sekuensial menggunakan model Recurrent Neural Networks (RNN) dan turunannya seperti LSTM dan GRU.\n",
        "\n",
        "### Materi utama:\n",
        "1. Membuat model RNN sederhana dengan `SimpleRNN`\n",
        "2. Menggunakan `LSTM` dan `GRU` layer\n",
        "3. Bidirectional RNN\n",
        "4. Training dan evaluasi dengan data sekuensial\n"
      ]
    },
    {
      "cell_type": "code",
      "execution_count": 1,
      "id": "e48250b8",
      "metadata": {
        "colab": {
          "base_uri": "https://localhost:8080/"
        },
        "id": "e48250b8",
        "outputId": "43fc9a40-d803-409b-d428-58cf3ff95f63"
      },
      "outputs": [
        {
          "output_type": "stream",
          "name": "stderr",
          "text": [
            "/usr/local/lib/python3.11/dist-packages/keras/src/layers/rnn/rnn.py:200: UserWarning: Do not pass an `input_shape`/`input_dim` argument to a layer. When using Sequential models, prefer using an `Input(shape)` object as the first layer in the model instead.\n",
            "  super().__init__(**kwargs)\n"
          ]
        },
        {
          "output_type": "stream",
          "name": "stdout",
          "text": [
            "Epoch 1/3\n",
            "\u001b[1m29/29\u001b[0m \u001b[32m━━━━━━━━━━━━━━━━━━━━\u001b[0m\u001b[37m\u001b[0m \u001b[1m4s\u001b[0m 28ms/step - accuracy: 0.5022 - loss: 0.7022 - val_accuracy: 0.5200 - val_loss: 0.6904\n",
            "Epoch 2/3\n",
            "\u001b[1m29/29\u001b[0m \u001b[32m━━━━━━━━━━━━━━━━━━━━\u001b[0m\u001b[37m\u001b[0m \u001b[1m0s\u001b[0m 10ms/step - accuracy: 0.5310 - loss: 0.6938 - val_accuracy: 0.5200 - val_loss: 0.6928\n",
            "Epoch 3/3\n",
            "\u001b[1m29/29\u001b[0m \u001b[32m━━━━━━━━━━━━━━━━━━━━\u001b[0m\u001b[37m\u001b[0m \u001b[1m1s\u001b[0m 9ms/step - accuracy: 0.5016 - loss: 0.7020 - val_accuracy: 0.5300 - val_loss: 0.6910\n"
          ]
        },
        {
          "output_type": "execute_result",
          "data": {
            "text/plain": [
              "<keras.src.callbacks.history.History at 0x7f5becbc7710>"
            ]
          },
          "metadata": {},
          "execution_count": 1
        }
      ],
      "source": [
        "\n",
        "import tensorflow as tf\n",
        "from tensorflow import keras\n",
        "import numpy as np\n",
        "\n",
        "# Simulasi data sekuensial\n",
        "X_train = np.random.random((1000, 10, 1))  # (samples, timesteps, features)\n",
        "y_train = np.random.randint(0, 2, 1000)\n",
        "\n",
        "# Simple RNN\n",
        "model_rnn = keras.models.Sequential([\n",
        "    keras.layers.SimpleRNN(32, return_sequences=False, input_shape=(10, 1)),\n",
        "    keras.layers.Dense(1, activation=\"sigmoid\")\n",
        "])\n",
        "\n",
        "model_rnn.compile(optimizer=\"adam\", loss=\"binary_crossentropy\", metrics=[\"accuracy\"])\n",
        "model_rnn.fit(X_train, y_train, epochs=3, validation_split=0.1)\n"
      ]
    },
    {
      "cell_type": "code",
      "execution_count": 2,
      "id": "2da43aca",
      "metadata": {
        "colab": {
          "base_uri": "https://localhost:8080/"
        },
        "id": "2da43aca",
        "outputId": "8ef3ddb8-0ba5-4130-a83a-7e8ae5f57540"
      },
      "outputs": [
        {
          "output_type": "stream",
          "name": "stdout",
          "text": [
            "Epoch 1/3\n",
            "\u001b[1m29/29\u001b[0m \u001b[32m━━━━━━━━━━━━━━━━━━━━\u001b[0m\u001b[37m\u001b[0m \u001b[1m3s\u001b[0m 23ms/step - accuracy: 0.4774 - loss: 0.6949 - val_accuracy: 0.5100 - val_loss: 0.6937\n",
            "Epoch 2/3\n",
            "\u001b[1m29/29\u001b[0m \u001b[32m━━━━━━━━━━━━━━━━━━━━\u001b[0m\u001b[37m\u001b[0m \u001b[1m1s\u001b[0m 11ms/step - accuracy: 0.5177 - loss: 0.6925 - val_accuracy: 0.4800 - val_loss: 0.6935\n",
            "Epoch 3/3\n",
            "\u001b[1m29/29\u001b[0m \u001b[32m━━━━━━━━━━━━━━━━━━━━\u001b[0m\u001b[37m\u001b[0m \u001b[1m1s\u001b[0m 9ms/step - accuracy: 0.4712 - loss: 0.6932 - val_accuracy: 0.4500 - val_loss: 0.6935\n",
            "Epoch 1/3\n",
            "\u001b[1m29/29\u001b[0m \u001b[32m━━━━━━━━━━━━━━━━━━━━\u001b[0m\u001b[37m\u001b[0m \u001b[1m3s\u001b[0m 29ms/step - accuracy: 0.4813 - loss: 0.6943 - val_accuracy: 0.4900 - val_loss: 0.6932\n",
            "Epoch 2/3\n",
            "\u001b[1m29/29\u001b[0m \u001b[32m━━━━━━━━━━━━━━━━━━━━\u001b[0m\u001b[37m\u001b[0m \u001b[1m1s\u001b[0m 17ms/step - accuracy: 0.5006 - loss: 0.6941 - val_accuracy: 0.5100 - val_loss: 0.6932\n",
            "Epoch 3/3\n",
            "\u001b[1m29/29\u001b[0m \u001b[32m━━━━━━━━━━━━━━━━━━━━\u001b[0m\u001b[37m\u001b[0m \u001b[1m1s\u001b[0m 17ms/step - accuracy: 0.4896 - loss: 0.6934 - val_accuracy: 0.5100 - val_loss: 0.6933\n"
          ]
        },
        {
          "output_type": "execute_result",
          "data": {
            "text/plain": [
              "<keras.src.callbacks.history.History at 0x7f5be344d090>"
            ]
          },
          "metadata": {},
          "execution_count": 2
        }
      ],
      "source": [
        "\n",
        "# LSTM model\n",
        "model_lstm = keras.models.Sequential([\n",
        "    keras.layers.LSTM(64, input_shape=(10, 1)),\n",
        "    keras.layers.Dense(1, activation=\"sigmoid\")\n",
        "])\n",
        "model_lstm.compile(optimizer=\"adam\", loss=\"binary_crossentropy\", metrics=[\"accuracy\"])\n",
        "model_lstm.fit(X_train, y_train, epochs=3, validation_split=0.1)\n",
        "\n",
        "# GRU model\n",
        "model_gru = keras.models.Sequential([\n",
        "    keras.layers.GRU(64, input_shape=(10, 1)),\n",
        "    keras.layers.Dense(1, activation=\"sigmoid\")\n",
        "])\n",
        "model_gru.compile(optimizer=\"adam\", loss=\"binary_crossentropy\", metrics=[\"accuracy\"])\n",
        "model_gru.fit(X_train, y_train, epochs=3, validation_split=0.1)\n"
      ]
    },
    {
      "cell_type": "code",
      "execution_count": 3,
      "id": "6e35702b",
      "metadata": {
        "colab": {
          "base_uri": "https://localhost:8080/"
        },
        "id": "6e35702b",
        "outputId": "2b5034d3-b4e5-4bdc-cda9-a088e265f7ca"
      },
      "outputs": [
        {
          "output_type": "stream",
          "name": "stdout",
          "text": [
            "Epoch 1/3\n"
          ]
        },
        {
          "output_type": "stream",
          "name": "stderr",
          "text": [
            "/usr/local/lib/python3.11/dist-packages/keras/src/layers/rnn/bidirectional.py:107: UserWarning: Do not pass an `input_shape`/`input_dim` argument to a layer. When using Sequential models, prefer using an `Input(shape)` object as the first layer in the model instead.\n",
            "  super().__init__(**kwargs)\n"
          ]
        },
        {
          "output_type": "stream",
          "name": "stdout",
          "text": [
            "\u001b[1m29/29\u001b[0m \u001b[32m━━━━━━━━━━━━━━━━━━━━\u001b[0m\u001b[37m\u001b[0m \u001b[1m5s\u001b[0m 29ms/step - accuracy: 0.4959 - loss: 0.6946 - val_accuracy: 0.5100 - val_loss: 0.6940\n",
            "Epoch 2/3\n",
            "\u001b[1m29/29\u001b[0m \u001b[32m━━━━━━━━━━━━━━━━━━━━\u001b[0m\u001b[37m\u001b[0m \u001b[1m0s\u001b[0m 13ms/step - accuracy: 0.4783 - loss: 0.6949 - val_accuracy: 0.5100 - val_loss: 0.6932\n",
            "Epoch 3/3\n",
            "\u001b[1m29/29\u001b[0m \u001b[32m━━━━━━━━━━━━━━━━━━━━\u001b[0m\u001b[37m\u001b[0m \u001b[1m0s\u001b[0m 13ms/step - accuracy: 0.5282 - loss: 0.6950 - val_accuracy: 0.5200 - val_loss: 0.6933\n"
          ]
        },
        {
          "output_type": "execute_result",
          "data": {
            "text/plain": [
              "<keras.src.callbacks.history.History at 0x7f5be262c4d0>"
            ]
          },
          "metadata": {},
          "execution_count": 3
        }
      ],
      "source": [
        "\n",
        "# Bidirectional LSTM\n",
        "model_bi = keras.models.Sequential([\n",
        "    keras.layers.Bidirectional(keras.layers.LSTM(64), input_shape=(10, 1)),\n",
        "    keras.layers.Dense(1, activation=\"sigmoid\")\n",
        "])\n",
        "model_bi.compile(optimizer=\"adam\", loss=\"binary_crossentropy\", metrics=[\"accuracy\"])\n",
        "model_bi.fit(X_train, y_train, epochs=3, validation_split=0.1)\n"
      ]
    }
  ],
  "metadata": {
    "colab": {
      "provenance": [],
      "include_colab_link": true
    },
    "language_info": {
      "name": "python"
    },
    "kernelspec": {
      "name": "python3",
      "display_name": "Python 3"
    }
  },
  "nbformat": 4,
  "nbformat_minor": 5
}