{
  "cells": [
    {
      "cell_type": "markdown",
      "metadata": {
        "id": "view-in-github",
        "colab_type": "text"
      },
      "source": [
        "<a href=\"https://colab.research.google.com/github/raven-gith/machinelearning1/blob/main/12.%20Chapter%2012/chapter_12_custom_model_tensorflow.ipynb\" target=\"_parent\"><img src=\"https://colab.research.google.com/assets/colab-badge.svg\" alt=\"Open In Colab\"/></a>"
      ]
    },
    {
      "cell_type": "markdown",
      "id": "e75f9d22",
      "metadata": {
        "id": "e75f9d22"
      },
      "source": [
        "# Chapter 12: Custom Models and Training with TensorFlow\n",
        "\n",
        "Notebook ini mereproduksi dan menjelaskan isi Bab 12 dari buku _Hands-On Machine Learning with Scikit-Learn, Keras, and TensorFlow_ oleh Aurélien Géron.\n",
        "\n",
        "## 📘 Ringkasan Materi:\n",
        "\n",
        "Bab ini menjelaskan cara membangun model deep learning yang **lebih fleksibel dan dapat dikustomisasi** menggunakan API tingkat rendah TensorFlow.\n",
        "\n",
        "### Materi utama:\n",
        "1. Subclassing `tf.keras.Model` dan `tf.keras.layers.Layer`\n",
        "2. Custom loss, metric, dan training loop (GradientTape)\n",
        "3. Model fungsional (Functional API)\n",
        "4. Logging menggunakan TensorBoard\n"
      ]
    },
    {
      "cell_type": "code",
      "execution_count": 1,
      "id": "56e5eed8",
      "metadata": {
        "id": "56e5eed8"
      },
      "outputs": [],
      "source": [
        "\n",
        "import tensorflow as tf\n",
        "from tensorflow import keras\n",
        "\n",
        "# Custom layer\n",
        "class MyDenseLayer(keras.layers.Layer):\n",
        "    def __init__(self, units=32, activation=None):\n",
        "        super().__init__()\n",
        "        self.units = units\n",
        "        self.activation = keras.activations.get(activation)\n",
        "\n",
        "    def build(self, input_shape):\n",
        "        self.w = self.add_weight(shape=(input_shape[-1], self.units),\n",
        "                                 initializer=\"random_normal\",\n",
        "                                 trainable=True)\n",
        "        self.b = self.add_weight(shape=(self.units,),\n",
        "                                 initializer=\"zeros\",\n",
        "                                 trainable=True)\n",
        "\n",
        "    def call(self, inputs):\n",
        "        return self.activation(tf.matmul(inputs, self.w) + self.b)\n",
        "\n",
        "# Custom model\n",
        "class MyModel(keras.Model):\n",
        "    def __init__(self):\n",
        "        super().__init__()\n",
        "        self.dense1 = MyDenseLayer(64, activation=\"relu\")\n",
        "        self.dense2 = MyDenseLayer(10, activation=\"softmax\")\n",
        "\n",
        "    def call(self, x):\n",
        "        x = self.dense1(x)\n",
        "        return self.dense2(x)\n"
      ]
    },
    {
      "cell_type": "code",
      "execution_count": 2,
      "id": "1cd741b6",
      "metadata": {
        "colab": {
          "base_uri": "https://localhost:8080/"
        },
        "id": "1cd741b6",
        "outputId": "c96cbbcf-f069-4649-f088-d5ae7c561fba"
      },
      "outputs": [
        {
          "output_type": "stream",
          "name": "stdout",
          "text": [
            "Downloading data from https://storage.googleapis.com/tensorflow/tf-keras-datasets/mnist.npz\n",
            "\u001b[1m11490434/11490434\u001b[0m \u001b[32m━━━━━━━━━━━━━━━━━━━━\u001b[0m\u001b[37m\u001b[0m \u001b[1m0s\u001b[0m 0us/step\n",
            "Epoch 1/5\n",
            "\u001b[1m1688/1688\u001b[0m \u001b[32m━━━━━━━━━━━━━━━━━━━━\u001b[0m\u001b[37m\u001b[0m \u001b[1m10s\u001b[0m 5ms/step - accuracy: 0.8553 - loss: 0.4755 - val_accuracy: 0.9672 - val_loss: 0.1171\n",
            "Epoch 2/5\n",
            "\u001b[1m1688/1688\u001b[0m \u001b[32m━━━━━━━━━━━━━━━━━━━━\u001b[0m\u001b[37m\u001b[0m \u001b[1m9s\u001b[0m 4ms/step - accuracy: 0.9628 - loss: 0.1226 - val_accuracy: 0.9742 - val_loss: 0.0882\n",
            "Epoch 3/5\n",
            "\u001b[1m1688/1688\u001b[0m \u001b[32m━━━━━━━━━━━━━━━━━━━━\u001b[0m\u001b[37m\u001b[0m \u001b[1m9s\u001b[0m 4ms/step - accuracy: 0.9752 - loss: 0.0782 - val_accuracy: 0.9747 - val_loss: 0.0890\n",
            "Epoch 4/5\n",
            "\u001b[1m1688/1688\u001b[0m \u001b[32m━━━━━━━━━━━━━━━━━━━━\u001b[0m\u001b[37m\u001b[0m \u001b[1m8s\u001b[0m 4ms/step - accuracy: 0.9826 - loss: 0.0550 - val_accuracy: 0.9768 - val_loss: 0.0811\n",
            "Epoch 5/5\n",
            "\u001b[1m1688/1688\u001b[0m \u001b[32m━━━━━━━━━━━━━━━━━━━━\u001b[0m\u001b[37m\u001b[0m \u001b[1m10s\u001b[0m 4ms/step - accuracy: 0.9861 - loss: 0.0423 - val_accuracy: 0.9743 - val_loss: 0.0865\n"
          ]
        },
        {
          "output_type": "execute_result",
          "data": {
            "text/plain": [
              "<keras.src.callbacks.history.History at 0x7de6695774d0>"
            ]
          },
          "metadata": {},
          "execution_count": 2
        }
      ],
      "source": [
        "\n",
        "# Load dan siapkan data\n",
        "(X_train, y_train), (X_test, y_test) = keras.datasets.mnist.load_data()\n",
        "X_train = X_train.reshape(-1, 28*28) / 255.0\n",
        "X_test = X_test.reshape(-1, 28*28) / 255.0\n",
        "\n",
        "# Functional API\n",
        "inputs = keras.Input(shape=(28*28,))\n",
        "x = keras.layers.Dense(128, activation=\"relu\")(inputs)\n",
        "x = keras.layers.Dense(64, activation=\"relu\")(x)\n",
        "outputs = keras.layers.Dense(10, activation=\"softmax\")(x)\n",
        "functional_model = keras.Model(inputs=inputs, outputs=outputs)\n",
        "\n",
        "functional_model.compile(optimizer=\"adam\",\n",
        "                         loss=\"sparse_categorical_crossentropy\",\n",
        "                         metrics=[\"accuracy\"])\n",
        "\n",
        "functional_model.fit(X_train, y_train, epochs=5, validation_split=0.1)\n"
      ]
    },
    {
      "cell_type": "code",
      "execution_count": 3,
      "id": "df46b935",
      "metadata": {
        "colab": {
          "base_uri": "https://localhost:8080/"
        },
        "id": "df46b935",
        "outputId": "6015e39e-a574-4036-e935-2f7a93b250e8"
      },
      "outputs": [
        {
          "output_type": "stream",
          "name": "stdout",
          "text": [
            "Epoch 1/3\n",
            "\u001b[1m1688/1688\u001b[0m \u001b[32m━━━━━━━━━━━━━━━━━━━━\u001b[0m\u001b[37m\u001b[0m \u001b[1m8s\u001b[0m 4ms/step - accuracy: 0.9880 - loss: 0.0362 - val_accuracy: 0.9780 - val_loss: 0.0828\n",
            "Epoch 2/3\n",
            "\u001b[1m1688/1688\u001b[0m \u001b[32m━━━━━━━━━━━━━━━━━━━━\u001b[0m\u001b[37m\u001b[0m \u001b[1m10s\u001b[0m 5ms/step - accuracy: 0.9903 - loss: 0.0291 - val_accuracy: 0.9748 - val_loss: 0.0923\n",
            "Epoch 3/3\n",
            "\u001b[1m1688/1688\u001b[0m \u001b[32m━━━━━━━━━━━━━━━━━━━━\u001b[0m\u001b[37m\u001b[0m \u001b[1m11s\u001b[0m 5ms/step - accuracy: 0.9927 - loss: 0.0213 - val_accuracy: 0.9692 - val_loss: 0.1281\n"
          ]
        },
        {
          "output_type": "execute_result",
          "data": {
            "text/plain": [
              "<keras.src.callbacks.history.History at 0x7de666248950>"
            ]
          },
          "metadata": {},
          "execution_count": 3
        }
      ],
      "source": [
        "\n",
        "# Logging menggunakan TensorBoard\n",
        "import os\n",
        "log_dir = os.path.join(\"logs\", \"fit\")\n",
        "tensorboard_cb = keras.callbacks.TensorBoard(log_dir=log_dir, histogram_freq=1)\n",
        "\n",
        "functional_model.fit(X_train, y_train, epochs=3, validation_split=0.1, callbacks=[tensorboard_cb])\n"
      ]
    }
  ],
  "metadata": {
    "colab": {
      "provenance": [],
      "include_colab_link": true
    },
    "language_info": {
      "name": "python"
    },
    "kernelspec": {
      "name": "python3",
      "display_name": "Python 3"
    }
  },
  "nbformat": 4,
  "nbformat_minor": 5
}