{
  "cells": [
    {
      "cell_type": "markdown",
      "metadata": {
        "id": "view-in-github",
        "colab_type": "text"
      },
      "source": [
        "<a href=\"https://colab.research.google.com/github/raven-gith/machinelearning1/blob/main/UAS/KlasifikasiUTS.ipynb\" target=\"_parent\"><img src=\"https://colab.research.google.com/assets/colab-badge.svg\" alt=\"Open In Colab\"/></a>"
      ]
    },
    {
      "cell_type": "code",
      "execution_count": 1,
      "id": "12c52713",
      "metadata": {
        "colab": {
          "base_uri": "https://localhost:8080/"
        },
        "id": "12c52713",
        "outputId": "cf5f7168-720a-4201-aba3-3a6492de979d"
      },
      "outputs": [
        {
          "output_type": "stream",
          "name": "stdout",
          "text": [
            "\u001b[2K   \u001b[90m━━━━━━━━━━━━━━━━━━━━━━━━━━━━━━━━━━━━━━━━\u001b[0m \u001b[32m363.4/363.4 MB\u001b[0m \u001b[31m2.7 MB/s\u001b[0m eta \u001b[36m0:00:00\u001b[0m\n",
            "\u001b[2K   \u001b[90m━━━━━━━━━━━━━━━━━━━━━━━━━━━━━━━━━━━━━━━━\u001b[0m \u001b[32m13.8/13.8 MB\u001b[0m \u001b[31m19.0 MB/s\u001b[0m eta \u001b[36m0:00:00\u001b[0m\n",
            "\u001b[2K   \u001b[90m━━━━━━━━━━━━━━━━━━━━━━━━━━━━━━━━━━━━━━━━\u001b[0m \u001b[32m24.6/24.6 MB\u001b[0m \u001b[31m15.6 MB/s\u001b[0m eta \u001b[36m0:00:00\u001b[0m\n",
            "\u001b[2K   \u001b[90m━━━━━━━━━━━━━━━━━━━━━━━━━━━━━━━━━━━━━━━━\u001b[0m \u001b[32m883.7/883.7 kB\u001b[0m \u001b[31m27.7 MB/s\u001b[0m eta \u001b[36m0:00:00\u001b[0m\n",
            "\u001b[2K   \u001b[90m━━━━━━━━━━━━━━━━━━━━━━━━━━━━━━━━━━━━━━━━\u001b[0m \u001b[32m664.8/664.8 MB\u001b[0m \u001b[31m2.1 MB/s\u001b[0m eta \u001b[36m0:00:00\u001b[0m\n",
            "\u001b[2K   \u001b[90m━━━━━━━━━━━━━━━━━━━━━━━━━━━━━━━━━━━━━━━━\u001b[0m \u001b[32m211.5/211.5 MB\u001b[0m \u001b[31m5.6 MB/s\u001b[0m eta \u001b[36m0:00:00\u001b[0m\n",
            "\u001b[2K   \u001b[90m━━━━━━━━━━━━━━━━━━━━━━━━━━━━━━━━━━━━━━━━\u001b[0m \u001b[32m56.3/56.3 MB\u001b[0m \u001b[31m11.6 MB/s\u001b[0m eta \u001b[36m0:00:00\u001b[0m\n",
            "\u001b[2K   \u001b[90m━━━━━━━━━━━━━━━━━━━━━━━━━━━━━━━━━━━━━━━━\u001b[0m \u001b[32m127.9/127.9 MB\u001b[0m \u001b[31m7.5 MB/s\u001b[0m eta \u001b[36m0:00:00\u001b[0m\n",
            "\u001b[2K   \u001b[90m━━━━━━━━━━━━━━━━━━━━━━━━━━━━━━━━━━━━━━━━\u001b[0m \u001b[32m207.5/207.5 MB\u001b[0m \u001b[31m6.2 MB/s\u001b[0m eta \u001b[36m0:00:00\u001b[0m\n",
            "\u001b[2K   \u001b[90m━━━━━━━━━━━━━━━━━━━━━━━━━━━━━━━━━━━━━━━━\u001b[0m \u001b[32m21.1/21.1 MB\u001b[0m \u001b[31m78.3 MB/s\u001b[0m eta \u001b[36m0:00:00\u001b[0m\n",
            "\u001b[?25h"
          ]
        }
      ],
      "source": [
        "\n",
        "# Install & Import Libraries\n",
        "!pip install -q scikit-learn tensorflow torch torchvision torchaudio"
      ]
    },
    {
      "cell_type": "code",
      "execution_count": 2,
      "id": "3bb994b5",
      "metadata": {
        "id": "3bb994b5"
      },
      "outputs": [],
      "source": [
        "import pandas as pd\n",
        "import numpy as np\n",
        "import matplotlib.pyplot as plt\n",
        "import seaborn as sns"
      ]
    },
    {
      "cell_type": "code",
      "execution_count": 3,
      "id": "8b5e4545",
      "metadata": {
        "id": "8b5e4545"
      },
      "outputs": [],
      "source": [
        "from sklearn.model_selection import train_test_split\n",
        "from sklearn.preprocessing import StandardScaler\n",
        "from sklearn.metrics import accuracy_score, precision_score, recall_score, f1_score, confusion_matrix, roc_auc_score, RocCurveDisplay"
      ]
    },
    {
      "cell_type": "code",
      "execution_count": 4,
      "id": "11eca824",
      "metadata": {
        "id": "11eca824"
      },
      "outputs": [],
      "source": [
        "import tensorflow as tf\n",
        "import torch\n",
        "import torch.nn as nn\n",
        "import torch.optim as optim\n",
        "from torch.utils.data import TensorDataset, DataLoader"
      ]
    },
    {
      "cell_type": "code",
      "execution_count": 5,
      "id": "db524d42",
      "metadata": {
        "colab": {
          "base_uri": "https://localhost:8080/",
          "height": 73
        },
        "id": "db524d42",
        "outputId": "de17007b-e141-4ec1-9ac3-2e4072c91850"
      },
      "outputs": [
        {
          "output_type": "display_data",
          "data": {
            "text/plain": [
              "<IPython.core.display.HTML object>"
            ],
            "text/html": [
              "\n",
              "     <input type=\"file\" id=\"files-8e519768-8109-4e3f-a9f4-a3a20575f3d5\" name=\"files[]\" multiple disabled\n",
              "        style=\"border:none\" />\n",
              "     <output id=\"result-8e519768-8109-4e3f-a9f4-a3a20575f3d5\">\n",
              "      Upload widget is only available when the cell has been executed in the\n",
              "      current browser session. Please rerun this cell to enable.\n",
              "      </output>\n",
              "      <script>// Copyright 2017 Google LLC\n",
              "//\n",
              "// Licensed under the Apache License, Version 2.0 (the \"License\");\n",
              "// you may not use this file except in compliance with the License.\n",
              "// You may obtain a copy of the License at\n",
              "//\n",
              "//      http://www.apache.org/licenses/LICENSE-2.0\n",
              "//\n",
              "// Unless required by applicable law or agreed to in writing, software\n",
              "// distributed under the License is distributed on an \"AS IS\" BASIS,\n",
              "// WITHOUT WARRANTIES OR CONDITIONS OF ANY KIND, either express or implied.\n",
              "// See the License for the specific language governing permissions and\n",
              "// limitations under the License.\n",
              "\n",
              "/**\n",
              " * @fileoverview Helpers for google.colab Python module.\n",
              " */\n",
              "(function(scope) {\n",
              "function span(text, styleAttributes = {}) {\n",
              "  const element = document.createElement('span');\n",
              "  element.textContent = text;\n",
              "  for (const key of Object.keys(styleAttributes)) {\n",
              "    element.style[key] = styleAttributes[key];\n",
              "  }\n",
              "  return element;\n",
              "}\n",
              "\n",
              "// Max number of bytes which will be uploaded at a time.\n",
              "const MAX_PAYLOAD_SIZE = 100 * 1024;\n",
              "\n",
              "function _uploadFiles(inputId, outputId) {\n",
              "  const steps = uploadFilesStep(inputId, outputId);\n",
              "  const outputElement = document.getElementById(outputId);\n",
              "  // Cache steps on the outputElement to make it available for the next call\n",
              "  // to uploadFilesContinue from Python.\n",
              "  outputElement.steps = steps;\n",
              "\n",
              "  return _uploadFilesContinue(outputId);\n",
              "}\n",
              "\n",
              "// This is roughly an async generator (not supported in the browser yet),\n",
              "// where there are multiple asynchronous steps and the Python side is going\n",
              "// to poll for completion of each step.\n",
              "// This uses a Promise to block the python side on completion of each step,\n",
              "// then passes the result of the previous step as the input to the next step.\n",
              "function _uploadFilesContinue(outputId) {\n",
              "  const outputElement = document.getElementById(outputId);\n",
              "  const steps = outputElement.steps;\n",
              "\n",
              "  const next = steps.next(outputElement.lastPromiseValue);\n",
              "  return Promise.resolve(next.value.promise).then((value) => {\n",
              "    // Cache the last promise value to make it available to the next\n",
              "    // step of the generator.\n",
              "    outputElement.lastPromiseValue = value;\n",
              "    return next.value.response;\n",
              "  });\n",
              "}\n",
              "\n",
              "/**\n",
              " * Generator function which is called between each async step of the upload\n",
              " * process.\n",
              " * @param {string} inputId Element ID of the input file picker element.\n",
              " * @param {string} outputId Element ID of the output display.\n",
              " * @return {!Iterable<!Object>} Iterable of next steps.\n",
              " */\n",
              "function* uploadFilesStep(inputId, outputId) {\n",
              "  const inputElement = document.getElementById(inputId);\n",
              "  inputElement.disabled = false;\n",
              "\n",
              "  const outputElement = document.getElementById(outputId);\n",
              "  outputElement.innerHTML = '';\n",
              "\n",
              "  const pickedPromise = new Promise((resolve) => {\n",
              "    inputElement.addEventListener('change', (e) => {\n",
              "      resolve(e.target.files);\n",
              "    });\n",
              "  });\n",
              "\n",
              "  const cancel = document.createElement('button');\n",
              "  inputElement.parentElement.appendChild(cancel);\n",
              "  cancel.textContent = 'Cancel upload';\n",
              "  const cancelPromise = new Promise((resolve) => {\n",
              "    cancel.onclick = () => {\n",
              "      resolve(null);\n",
              "    };\n",
              "  });\n",
              "\n",
              "  // Wait for the user to pick the files.\n",
              "  const files = yield {\n",
              "    promise: Promise.race([pickedPromise, cancelPromise]),\n",
              "    response: {\n",
              "      action: 'starting',\n",
              "    }\n",
              "  };\n",
              "\n",
              "  cancel.remove();\n",
              "\n",
              "  // Disable the input element since further picks are not allowed.\n",
              "  inputElement.disabled = true;\n",
              "\n",
              "  if (!files) {\n",
              "    return {\n",
              "      response: {\n",
              "        action: 'complete',\n",
              "      }\n",
              "    };\n",
              "  }\n",
              "\n",
              "  for (const file of files) {\n",
              "    const li = document.createElement('li');\n",
              "    li.append(span(file.name, {fontWeight: 'bold'}));\n",
              "    li.append(span(\n",
              "        `(${file.type || 'n/a'}) - ${file.size} bytes, ` +\n",
              "        `last modified: ${\n",
              "            file.lastModifiedDate ? file.lastModifiedDate.toLocaleDateString() :\n",
              "                                    'n/a'} - `));\n",
              "    const percent = span('0% done');\n",
              "    li.appendChild(percent);\n",
              "\n",
              "    outputElement.appendChild(li);\n",
              "\n",
              "    const fileDataPromise = new Promise((resolve) => {\n",
              "      const reader = new FileReader();\n",
              "      reader.onload = (e) => {\n",
              "        resolve(e.target.result);\n",
              "      };\n",
              "      reader.readAsArrayBuffer(file);\n",
              "    });\n",
              "    // Wait for the data to be ready.\n",
              "    let fileData = yield {\n",
              "      promise: fileDataPromise,\n",
              "      response: {\n",
              "        action: 'continue',\n",
              "      }\n",
              "    };\n",
              "\n",
              "    // Use a chunked sending to avoid message size limits. See b/62115660.\n",
              "    let position = 0;\n",
              "    do {\n",
              "      const length = Math.min(fileData.byteLength - position, MAX_PAYLOAD_SIZE);\n",
              "      const chunk = new Uint8Array(fileData, position, length);\n",
              "      position += length;\n",
              "\n",
              "      const base64 = btoa(String.fromCharCode.apply(null, chunk));\n",
              "      yield {\n",
              "        response: {\n",
              "          action: 'append',\n",
              "          file: file.name,\n",
              "          data: base64,\n",
              "        },\n",
              "      };\n",
              "\n",
              "      let percentDone = fileData.byteLength === 0 ?\n",
              "          100 :\n",
              "          Math.round((position / fileData.byteLength) * 100);\n",
              "      percent.textContent = `${percentDone}% done`;\n",
              "\n",
              "    } while (position < fileData.byteLength);\n",
              "  }\n",
              "\n",
              "  // All done.\n",
              "  yield {\n",
              "    response: {\n",
              "      action: 'complete',\n",
              "    }\n",
              "  };\n",
              "}\n",
              "\n",
              "scope.google = scope.google || {};\n",
              "scope.google.colab = scope.google.colab || {};\n",
              "scope.google.colab._files = {\n",
              "  _uploadFiles,\n",
              "  _uploadFilesContinue,\n",
              "};\n",
              "})(self);\n",
              "</script> "
            ]
          },
          "metadata": {}
        },
        {
          "output_type": "stream",
          "name": "stdout",
          "text": [
            "Saving KlasifikasiUTS.csv to KlasifikasiUTS.csv\n"
          ]
        }
      ],
      "source": [
        "# Load Dataset via Upload\n",
        "from google.colab import files\n",
        "uploaded = files.upload()"
      ]
    },
    {
      "cell_type": "code",
      "execution_count": 6,
      "id": "43dc1ba5",
      "metadata": {
        "id": "43dc1ba5"
      },
      "outputs": [],
      "source": [
        "import io\n",
        "df = pd.read_csv(io.BytesIO(uploaded[list(uploaded.keys())[0]]))\n",
        "X = df.drop(columns=['Class'])\n",
        "y = df['Class']"
      ]
    },
    {
      "cell_type": "code",
      "execution_count": 7,
      "id": "82a43d28",
      "metadata": {
        "id": "82a43d28"
      },
      "outputs": [],
      "source": [
        "# Preprocessing\n",
        "scaler = StandardScaler()\n",
        "X_scaled = scaler.fit_transform(X)\n",
        "X_train, X_test, y_train, y_test = train_test_split(X_scaled, y, test_size=0.2, stratify=y, random_state=42)"
      ]
    },
    {
      "cell_type": "code",
      "execution_count": 8,
      "id": "0a0ee430",
      "metadata": {
        "colab": {
          "base_uri": "https://localhost:8080/"
        },
        "id": "0a0ee430",
        "outputId": "5b115d0d-fa0b-4eee-b59d-9d55e5734049"
      },
      "outputs": [
        {
          "output_type": "stream",
          "name": "stdout",
          "text": [
            "Epoch 1/20\n",
            "\u001b[1m713/713\u001b[0m \u001b[32m━━━━━━━━━━━━━━━━━━━━\u001b[0m\u001b[37m\u001b[0m \u001b[1m6s\u001b[0m 5ms/step - accuracy: 0.9561 - loss: 0.1324 - val_accuracy: 0.9994 - val_loss: 0.0044\n",
            "Epoch 2/20\n",
            "\u001b[1m713/713\u001b[0m \u001b[32m━━━━━━━━━━━━━━━━━━━━\u001b[0m\u001b[37m\u001b[0m \u001b[1m3s\u001b[0m 4ms/step - accuracy: 0.9991 - loss: 0.0054 - val_accuracy: 0.9994 - val_loss: 0.0031\n",
            "Epoch 3/20\n",
            "\u001b[1m713/713\u001b[0m \u001b[32m━━━━━━━━━━━━━━━━━━━━\u001b[0m\u001b[37m\u001b[0m \u001b[1m5s\u001b[0m 4ms/step - accuracy: 0.9995 - loss: 0.0032 - val_accuracy: 0.9994 - val_loss: 0.0031\n",
            "Epoch 4/20\n",
            "\u001b[1m713/713\u001b[0m \u001b[32m━━━━━━━━━━━━━━━━━━━━\u001b[0m\u001b[37m\u001b[0m \u001b[1m5s\u001b[0m 4ms/step - accuracy: 0.9993 - loss: 0.0034 - val_accuracy: 0.9994 - val_loss: 0.0030\n",
            "Epoch 5/20\n",
            "\u001b[1m713/713\u001b[0m \u001b[32m━━━━━━━━━━━━━━━━━━━━\u001b[0m\u001b[37m\u001b[0m \u001b[1m6s\u001b[0m 5ms/step - accuracy: 0.9994 - loss: 0.0032 - val_accuracy: 0.9994 - val_loss: 0.0028\n",
            "Epoch 6/20\n",
            "\u001b[1m713/713\u001b[0m \u001b[32m━━━━━━━━━━━━━━━━━━━━\u001b[0m\u001b[37m\u001b[0m \u001b[1m5s\u001b[0m 4ms/step - accuracy: 0.9994 - loss: 0.0031 - val_accuracy: 0.9995 - val_loss: 0.0027\n",
            "Epoch 7/20\n",
            "\u001b[1m713/713\u001b[0m \u001b[32m━━━━━━━━━━━━━━━━━━━━\u001b[0m\u001b[37m\u001b[0m \u001b[1m3s\u001b[0m 4ms/step - accuracy: 0.9993 - loss: 0.0029 - val_accuracy: 0.9995 - val_loss: 0.0029\n",
            "Epoch 8/20\n",
            "\u001b[1m713/713\u001b[0m \u001b[32m━━━━━━━━━━━━━━━━━━━━\u001b[0m\u001b[37m\u001b[0m \u001b[1m5s\u001b[0m 5ms/step - accuracy: 0.9995 - loss: 0.0025 - val_accuracy: 0.9992 - val_loss: 0.0037\n",
            "Epoch 9/20\n",
            "\u001b[1m713/713\u001b[0m \u001b[32m━━━━━━━━━━━━━━━━━━━━\u001b[0m\u001b[37m\u001b[0m \u001b[1m5s\u001b[0m 4ms/step - accuracy: 0.9994 - loss: 0.0025 - val_accuracy: 0.9995 - val_loss: 0.0029\n"
          ]
        }
      ],
      "source": [
        "# TensorFlow MLP\n",
        "model_tf = tf.keras.Sequential([\n",
        "    tf.keras.layers.Dense(64, activation='relu'),\n",
        "    tf.keras.layers.BatchNormalization(),\n",
        "    tf.keras.layers.Dropout(0.3),\n",
        "    tf.keras.layers.Dense(32, activation='relu'),\n",
        "    tf.keras.layers.Dense(1, activation='sigmoid')\n",
        "])\n",
        "model_tf.compile(optimizer=tf.keras.optimizers.Adam(learning_rate=0.001),\n",
        "                 loss='binary_crossentropy',\n",
        "                 metrics=['accuracy'])\n",
        "early_stop = tf.keras.callbacks.EarlyStopping(monitor='val_loss', patience=3, restore_best_weights=True)\n",
        "history = model_tf.fit(X_train, y_train, validation_split=0.2, epochs=20, batch_size=256, callbacks=[early_stop])"
      ]
    },
    {
      "cell_type": "code",
      "execution_count": 9,
      "id": "357941f1",
      "metadata": {
        "id": "357941f1"
      },
      "outputs": [],
      "source": [
        "# PyTorch MLP\n",
        "X_train_t = torch.FloatTensor(X_train)\n",
        "X_test_t = torch.FloatTensor(X_test)\n",
        "y_train_t = torch.FloatTensor(y_train.values).unsqueeze(1)\n",
        "y_test_t = torch.FloatTensor(y_test.values).unsqueeze(1)"
      ]
    },
    {
      "cell_type": "code",
      "execution_count": 10,
      "id": "55ddbed5",
      "metadata": {
        "id": "55ddbed5"
      },
      "outputs": [],
      "source": [
        "train_data = TensorDataset(X_train_t, y_train_t)\n",
        "train_loader = DataLoader(train_data, batch_size=256, shuffle=True)"
      ]
    },
    {
      "cell_type": "code",
      "execution_count": 17,
      "id": "564abbe7",
      "metadata": {
        "id": "564abbe7"
      },
      "outputs": [],
      "source": [
        "class MLP(nn.Module):\n",
        "    def __init__(self):\n",
        "        super(MLP, self).__init__()\n",
        "        self.layers = nn.Sequential(\n",
        "            nn.Linear(X_train.shape[1], 64),\n",
        "            nn.BatchNorm1d(64),\n",
        "            nn.ReLU(),\n",
        "            nn.Dropout(0.3),\n",
        "            nn.Linear(64, 32),\n",
        "            nn.ReLU(),\n",
        "            nn.Linear(32, 1),\n",
        "            nn.Sigmoid()\n",
        "        )\n",
        "\n",
        "    def forward(self, x):\n",
        "        return self.layers(x)"
      ]
    },
    {
      "cell_type": "code",
      "execution_count": 18,
      "id": "7745a8aa",
      "metadata": {
        "id": "7745a8aa"
      },
      "outputs": [],
      "source": [
        "model_pt = MLP()\n",
        "criterion = nn.BCELoss()\n",
        "optimizer = optim.AdamW(model_pt.parameters(), lr=0.001, weight_decay=1e-5)"
      ]
    },
    {
      "cell_type": "code",
      "execution_count": 19,
      "id": "2f3fcdac",
      "metadata": {
        "colab": {
          "base_uri": "https://localhost:8080/"
        },
        "id": "2f3fcdac",
        "outputId": "725c46e4-2c53-4820-d143-45a9fab8cab0"
      },
      "outputs": [
        {
          "output_type": "stream",
          "name": "stdout",
          "text": [
            "Epoch 1, Loss: 26.7721\n",
            "Epoch 2, Loss: 4.1023\n",
            "Epoch 3, Loss: 2.8903\n",
            "Epoch 4, Loss: 2.5986\n",
            "Epoch 5, Loss: 2.5628\n",
            "Epoch 6, Loss: 2.5427\n",
            "Epoch 7, Loss: 2.3717\n",
            "Epoch 8, Loss: 2.3517\n",
            "Epoch 9, Loss: 2.3492\n",
            "Epoch 10, Loss: 2.2206\n"
          ]
        }
      ],
      "source": [
        "for epoch in range(10):\n",
        "    model_pt.train()\n",
        "    total_loss = 0\n",
        "    for xb, yb in train_loader:\n",
        "        pred = model_pt(xb)\n",
        "        loss = criterion(pred, yb)\n",
        "        optimizer.zero_grad()\n",
        "        loss.backward()\n",
        "        optimizer.step()\n",
        "        total_loss += loss.item()\n",
        "    print(f\"Epoch {epoch+1}, Loss: {total_loss:.4f}\")"
      ]
    },
    {
      "cell_type": "code",
      "execution_count": 20,
      "id": "039c6a41",
      "metadata": {
        "colab": {
          "base_uri": "https://localhost:8080/"
        },
        "id": "039c6a41",
        "outputId": "4a367612-7003-4295-c879-28764ed514c0"
      },
      "outputs": [
        {
          "output_type": "stream",
          "name": "stdout",
          "text": [
            "\u001b[1m1781/1781\u001b[0m \u001b[32m━━━━━━━━━━━━━━━━━━━━\u001b[0m\u001b[37m\u001b[0m \u001b[1m7s\u001b[0m 4ms/step\n",
            "TF Accuracy: 0.9993153330290369\n",
            "TF Precision: 0.8641975308641975\n",
            "TF Recall: 0.7142857142857143\n",
            "TF F1: 0.7821229050279329\n",
            "\u001b[1m1781/1781\u001b[0m \u001b[32m━━━━━━━━━━━━━━━━━━━━\u001b[0m\u001b[37m\u001b[0m \u001b[1m5s\u001b[0m 3ms/step\n",
            "TF AUC: 0.9794385888851883\n"
          ]
        }
      ],
      "source": [
        "# Evaluation TensorFlow\n",
        "y_pred_tf = (model_tf.predict(X_test) > 0.5).astype(\"int32\")\n",
        "print(\"TF Accuracy:\", accuracy_score(y_test, y_pred_tf))\n",
        "print(\"TF Precision:\", precision_score(y_test, y_pred_tf))\n",
        "print(\"TF Recall:\", recall_score(y_test, y_pred_tf))\n",
        "print(\"TF F1:\", f1_score(y_test, y_pred_tf))\n",
        "print(\"TF AUC:\", roc_auc_score(y_test, model_tf.predict(X_test)))"
      ]
    },
    {
      "cell_type": "code",
      "execution_count": 21,
      "id": "cb925db4",
      "metadata": {
        "colab": {
          "base_uri": "https://localhost:8080/",
          "height": 452
        },
        "id": "cb925db4",
        "outputId": "8b68da6d-5b28-4a71-bc72-43b5a919480e"
      },
      "outputs": [
        {
          "output_type": "display_data",
          "data": {
            "text/plain": [
              "<Figure size 640x480 with 2 Axes>"
            ],
            "image/png": "[encoded data removed]"
          },
          "metadata": {}
        }
      ],
      "source": [
        "sns.heatmap(confusion_matrix(y_test, y_pred_tf), annot=True, fmt='d', cmap='Blues')\n",
        "plt.title(\"Confusion Matrix (TensorFlow)\")\n",
        "plt.show()"
      ]
    },
    {
      "cell_type": "code",
      "execution_count": 22,
      "id": "26ac5986",
      "metadata": {
        "colab": {
          "base_uri": "https://localhost:8080/",
          "height": 489
        },
        "id": "26ac5986",
        "outputId": "15f348ea-00ce-4976-f06b-2e4caf3ebe06"
      },
      "outputs": [
        {
          "output_type": "stream",
          "name": "stdout",
          "text": [
            "\u001b[1m1781/1781\u001b[0m \u001b[32m━━━━━━━━━━━━━━━━━━━━\u001b[0m\u001b[37m\u001b[0m \u001b[1m2s\u001b[0m 1ms/step\n"
          ]
        },
        {
          "output_type": "display_data",
          "data": {
            "text/plain": [
              "<Figure size 640x480 with 1 Axes>"
            ],
            "image/png": "[encoded data removed]"
          },
          "metadata": {}
        }
      ],
      "source": [
        "RocCurveDisplay.from_predictions(y_test, model_tf.predict(X_test))\n",
        "plt.title(\"ROC Curve (TensorFlow)\")\n",
        "plt.show()"
      ]
    },
    {
      "cell_type": "code",
      "execution_count": 23,
      "id": "281f20cc",
      "metadata": {
        "id": "281f20cc"
      },
      "outputs": [],
      "source": [
        "# Evaluation PyTorch\n",
        "model_pt.eval()\n",
        "with torch.no_grad():\n",
        "    y_pred_pt = model_pt(X_test_t).numpy()\n",
        "    y_pred_pt_bin = (y_pred_pt > 0.5).astype(\"int32\")"
      ]
    },
    {
      "cell_type": "code",
      "execution_count": 24,
      "id": "b0046dfa",
      "metadata": {
        "colab": {
          "base_uri": "https://localhost:8080/"
        },
        "id": "b0046dfa",
        "outputId": "1ef85fb6-b82b-44ec-c802-1f55d3fb91e6"
      },
      "outputs": [
        {
          "output_type": "stream",
          "name": "stdout",
          "text": [
            "PT Accuracy: 0.9993504441557529\n",
            "PT Precision: 0.8210526315789474\n",
            "PT Recall: 0.7959183673469388\n",
            "PT F1: 0.8082901554404145\n",
            "PT AUC: 0.9777808562929955\n"
          ]
        }
      ],
      "source": [
        "print(\"PT Accuracy:\", accuracy_score(y_test, y_pred_pt_bin))\n",
        "print(\"PT Precision:\", precision_score(y_test, y_pred_pt_bin))\n",
        "print(\"PT Recall:\", recall_score(y_test, y_pred_pt_bin))\n",
        "print(\"PT F1:\", f1_score(y_test, y_pred_pt_bin))\n",
        "print(\"PT AUC:\", roc_auc_score(y_test, y_pred_pt))"
      ]
    },
    {
      "cell_type": "code",
      "execution_count": 25,
      "id": "78af0bf0",
      "metadata": {
        "colab": {
          "base_uri": "https://localhost:8080/",
          "height": 452
        },
        "id": "78af0bf0",
        "outputId": "9961db29-eb79-4d31-87b4-976ae07d14e4"
      },
      "outputs": [
        {
          "output_type": "display_data",
          "data": {
            "text/plain": [
              "<Figure size 640x480 with 2 Axes>"
            ],
            "image/png": "[encoded data removed]"
          },
          "metadata": {}
        }
      ],
      "source": [
        "sns.heatmap(confusion_matrix(y_test, y_pred_pt_bin), annot=True, fmt='d', cmap='Greens')\n",
        "plt.title(\"Confusion Matrix (PyTorch)\")\n",
        "plt.show()"
      ]
    },
    {
      "cell_type": "code",
      "execution_count": 26,
      "id": "7efd526d",
      "metadata": {
        "colab": {
          "base_uri": "https://localhost:8080/",
          "height": 472
        },
        "id": "7efd526d",
        "outputId": "e96b43c8-1933-40fd-9309-6a0bdb78330a"
      },
      "outputs": [
        {
          "output_type": "display_data",
          "data": {
            "text/plain": [
              "<Figure size 640x480 with 1 Axes>"
            ],
            "image/png": "[encoded data removed]"
          },
          "metadata": {}
        }
      ],
      "source": [
        "RocCurveDisplay.from_predictions(y_test, y_pred_pt)\n",
        "plt.title(\"ROC Curve (PyTorch)\")\n",
        "plt.show()\n"
      ]
    },
    {
      "cell_type": "markdown",
      "source": [
        "## 🔍 Penjelasan Model & Analisa Kinerja\n",
        "\n",
        "### 1. Model TensorFlow\n",
        "Model ini dibangun menggunakan **keras.Sequential** dengan arsitektur multilayer perceptron (MLP) sebagai berikut:\n",
        "- Dense layer 64 unit dengan ReLU\n",
        "- Batch Normalization\n",
        "- Dropout 30%\n",
        "- Dense layer 32 unit dengan ReLU\n",
        "- Output layer 1 unit dengan Sigmoid (untuk klasifikasi biner)\n",
        "\n",
        "**Teknik yang digunakan:**\n",
        "- Optimizer: Adam\n",
        "- Learning rate: 0.001\n",
        "- EarlyStopping digunakan untuk menghindari overfitting\n",
        "- Dropout digunakan untuk regularisasi\n",
        "- Batch Normalization mempercepat konvergensi dan stabilisasi training\n",
        "\n",
        "### 2. Model PyTorch\n",
        "Model ini memiliki arsitektur yang sangat mirip:\n",
        "- Linear layer 64 unit + ReLU + BatchNorm + Dropout\n",
        "- Linear layer 32 unit + ReLU\n",
        "- Output layer 1 unit + Sigmoid\n",
        "\n",
        "**Teknik yang digunakan:**\n",
        "- Optimizer: AdamW (Adam dengan weight decay)\n",
        "- Learning rate: 0.001\n",
        "- Weight Decay: 1e-5 untuk regularisasi\n",
        "- Dropout & BatchNorm seperti TensorFlow\n",
        "- Training dilakukan dalam loop manual\n",
        "\n",
        "---\n",
        "\n",
        "## 📊 Evaluasi & Hasil\n",
        "\n",
        "| Metrik         | TensorFlow | PyTorch |\n",
        "|----------------|-------------|---------|\n",
        "| Akurasi        | ✔️ (Diukur) | ✔️      |\n",
        "| Presisi        | ✔️          | ✔️      |\n",
        "| Recall         | ✔️          | ✔️      |\n",
        "| F1-score       | ✔️          | ✔️      |\n",
        "| AUC            | ✔️          | ✔️      |\n",
        "\n",
        "> ⚠️ Catatan: Dataset sangat imbalanced (fraud sangat sedikit), sehingga metrik **recall, precision, F1, dan AUC lebih penting** daripada akurasi.\n",
        "\n",
        "---\n",
        "\n",
        "## 🏆 Kesimpulan: Model Terbaik\n",
        "\n",
        "Berdasarkan hasil evaluasi:\n",
        "- Jika **TensorFlow memiliki F1-score dan AUC lebih tinggi**, maka ia **lebih baik** karena:\n",
        "  - Lebih sensitif dalam mendeteksi class minoritas (fraud)\n",
        "  - Menggunakan early stopping untuk mencegah overfitting\n",
        "  - Kombinasi dropout dan batch normalization bekerja efektif\n",
        "\n",
        "Namun, jika hasil menunjukkan **PyTorch lebih unggul**, maka bisa jadi karena optimasi dengan **AdamW** dan kontrol penuh terhadap training loop.\n",
        "\n",
        "**Maka model terbaik dipilih berdasarkan metrik:**\n",
        "- **F1-score**: kombinasi antara precision dan recall\n",
        "- **AUC**: menunjukkan kualitas klasifikasi menyeluruh, tidak hanya pada satu threshold\n",
        "\n",
        "👉 Silakan cek hasil `print(...)` evaluasi di atas dan bandingkan nilai F1 dan AUC dari masing-masing model untuk memilih secara tepat.\n",
        "\n",
        "---\n",
        "\n"
      ],
      "metadata": {
        "id": "Eqlb3XmeTi_6"
      },
      "id": "Eqlb3XmeTi_6"
    },
    {
      "cell_type": "markdown",
      "source": [
        "## Kesimpulan dan Analisa Model Terbaik\n",
        "\n",
        "Berdasarkan evaluasi, kedua model deep learning — TensorFlow dan PyTorch — menunjukkan performa yang sangat baik. Namun jika dilihat lebih dalam:\n",
        "\n",
        "- **PyTorch unggul pada F1 Score** (0.808 > 0.782), yang merupakan metrik gabungan dari presisi dan recall. F1 sangat penting dalam kasus seperti deteksi fraud yang **data-nya tidak seimbang**.\n",
        "- **Recall PyTorch juga lebih tinggi** (0.795 vs 0.714), artinya lebih banyak kasus fraud yang berhasil dideteksi.\n",
        "- Meskipun AUC dan Precision sedikit lebih baik pada TensorFlow, selisihnya sangat kecil dan tidak signifikan dalam konteks ini.\n",
        "\n",
        "### 🔍 Model Terbaik: **PyTorch**\n",
        "Karena memiliki **F1 Score dan Recall tertinggi**, maka model PyTorch lebih baik dalam menangani kasus fraud detection yang imbalance.\n",
        "\n",
        "Model ini berhasil menjaga keseimbangan antara mendeteksi positif (fraud) dan meminimalkan false positives, yang sangat krusial dalam aplikasi nyata seperti deteksi penipuan transaksi.\n"
      ],
      "metadata": {
        "id": "5sIFkXUlUTBf"
      },
      "id": "5sIFkXUlUTBf"
    }
  ],
  "metadata": {
    "colab": {
      "provenance": [],
      "include_colab_link": true
    },
    "language_info": {
      "name": "python"
    },
    "kernelspec": {
      "name": "python3",
      "display_name": "Python 3"
    }
  },
  "nbformat": 4,
  "nbformat_minor": 5
}