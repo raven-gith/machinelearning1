{
  "nbformat": 4,
  "nbformat_minor": 0,
  "metadata": {
    "colab": {
      "provenance": [],
      "authorship_tag": "ABX9TyPoDGaS8C4ApNlsDpvCQkTU",
      "include_colab_link": true
    },
    "kernelspec": {
      "name": "python3",
      "display_name": "Python 3"
    },
    "language_info": {
      "name": "python"
    }
  },
  "cells": [
    {
      "cell_type": "markdown",
      "metadata": {
        "id": "view-in-github",
        "colab_type": "text"
      },
      "source": [
        "<a href=\"https://colab.research.google.com/github/raven-gith/machinelearning1/blob/main/Week%207/automobile.ipynb\" target=\"_parent\"><img src=\"https://colab.research.google.com/assets/colab-badge.svg\" alt=\"Open In Colab\"/></a>"
      ]
    },
    {
      "cell_type": "code",
      "execution_count": 1,
      "metadata": {
        "colab": {
          "base_uri": "https://localhost:8080/"
        },
        "id": "tOWDnYQmPDXg",
        "outputId": "2865e6a8-ab23-4adf-b946-8da40fc807e9"
      },
      "outputs": [
        {
          "output_type": "stream",
          "name": "stdout",
          "text": [
            "Requirement already satisfied: pandas in /usr/local/lib/python3.11/dist-packages (2.2.2)\n",
            "Requirement already satisfied: scikit-learn in /usr/local/lib/python3.11/dist-packages (1.6.1)\n",
            "Requirement already satisfied: numpy in /usr/local/lib/python3.11/dist-packages (2.0.2)\n",
            "Requirement already satisfied: python-dateutil>=2.8.2 in /usr/local/lib/python3.11/dist-packages (from pandas) (2.8.2)\n",
            "Requirement already satisfied: pytz>=2020.1 in /usr/local/lib/python3.11/dist-packages (from pandas) (2025.2)\n",
            "Requirement already satisfied: tzdata>=2022.7 in /usr/local/lib/python3.11/dist-packages (from pandas) (2025.2)\n",
            "Requirement already satisfied: scipy>=1.6.0 in /usr/local/lib/python3.11/dist-packages (from scikit-learn) (1.14.1)\n",
            "Requirement already satisfied: joblib>=1.2.0 in /usr/local/lib/python3.11/dist-packages (from scikit-learn) (1.4.2)\n",
            "Requirement already satisfied: threadpoolctl>=3.1.0 in /usr/local/lib/python3.11/dist-packages (from scikit-learn) (3.6.0)\n",
            "Requirement already satisfied: six>=1.5 in /usr/local/lib/python3.11/dist-packages (from python-dateutil>=2.8.2->pandas) (1.17.0)\n"
          ]
        }
      ],
      "source": [
        "# Import Library\n",
        "import pandas as pd\n",
        "import numpy as np\n",
        "from sklearn.model_selection import train_test_split\n",
        "from sklearn.ensemble import RandomForestRegressor, GradientBoostingRegressor\n",
        "from sklearn.metrics import mean_squared_error, r2_score\n",
        "!pip install pandas scikit-learn numpy"
      ]
    },
    {
      "cell_type": "code",
      "source": [
        "# Upload file CSV\n",
        "from google.colab import files\n",
        "uploaded = files.upload()\n",
        "\n",
        "# Load dataset\n",
        "df = pd.read_csv(next(iter(uploaded)))"
      ],
      "metadata": {
        "colab": {
          "base_uri": "https://localhost:8080/",
          "height": 73
        },
        "id": "sJbWZ3WMPRrs",
        "outputId": "7b5398f9-5e88-49ec-9d87-cc3d3b4475be"
      },
      "execution_count": 2,
      "outputs": [
        {
          "output_type": "display_data",
          "data": {
            "text/plain": [
              "<IPython.core.display.HTML object>"
            ],
            "text/html": [
              "\n",
              "     <input type=\"file\" id=\"files-513f44fb-cf83-422e-9968-22ef5cf20420\" name=\"files[]\" multiple disabled\n",
              "        style=\"border:none\" />\n",
              "     <output id=\"result-513f44fb-cf83-422e-9968-22ef5cf20420\">\n",
              "      Upload widget is only available when the cell has been executed in the\n",
              "      current browser session. Please rerun this cell to enable.\n",
              "      </output>\n",
              "      <script>// Copyright 2017 Google LLC\n",
              "//\n",
              "// Licensed under the Apache License, Version 2.0 (the \"License\");\n",
              "// you may not use this file except in compliance with the License.\n",
              "// You may obtain a copy of the License at\n",
              "//\n",
              "//      http://www.apache.org/licenses/LICENSE-2.0\n",
              "//\n",
              "// Unless required by applicable law or agreed to in writing, software\n",
              "// distributed under the License is distributed on an \"AS IS\" BASIS,\n",
              "// WITHOUT WARRANTIES OR CONDITIONS OF ANY KIND, either express or implied.\n",
              "// See the License for the specific language governing permissions and\n",
              "// limitations under the License.\n",
              "\n",
              "/**\n",
              " * @fileoverview Helpers for google.colab Python module.\n",
              " */\n",
              "(function(scope) {\n",
              "function span(text, styleAttributes = {}) {\n",
              "  const element = document.createElement('span');\n",
              "  element.textContent = text;\n",
              "  for (const key of Object.keys(styleAttributes)) {\n",
              "    element.style[key] = styleAttributes[key];\n",
              "  }\n",
              "  return element;\n",
              "}\n",
              "\n",
              "// Max number of bytes which will be uploaded at a time.\n",
              "const MAX_PAYLOAD_SIZE = 100 * 1024;\n",
              "\n",
              "function _uploadFiles(inputId, outputId) {\n",
              "  const steps = uploadFilesStep(inputId, outputId);\n",
              "  const outputElement = document.getElementById(outputId);\n",
              "  // Cache steps on the outputElement to make it available for the next call\n",
              "  // to uploadFilesContinue from Python.\n",
              "  outputElement.steps = steps;\n",
              "\n",
              "  return _uploadFilesContinue(outputId);\n",
              "}\n",
              "\n",
              "// This is roughly an async generator (not supported in the browser yet),\n",
              "// where there are multiple asynchronous steps and the Python side is going\n",
              "// to poll for completion of each step.\n",
              "// This uses a Promise to block the python side on completion of each step,\n",
              "// then passes the result of the previous step as the input to the next step.\n",
              "function _uploadFilesContinue(outputId) {\n",
              "  const outputElement = document.getElementById(outputId);\n",
              "  const steps = outputElement.steps;\n",
              "\n",
              "  const next = steps.next(outputElement.lastPromiseValue);\n",
              "  return Promise.resolve(next.value.promise).then((value) => {\n",
              "    // Cache the last promise value to make it available to the next\n",
              "    // step of the generator.\n",
              "    outputElement.lastPromiseValue = value;\n",
              "    return next.value.response;\n",
              "  });\n",
              "}\n",
              "\n",
              "/**\n",
              " * Generator function which is called between each async step of the upload\n",
              " * process.\n",
              " * @param {string} inputId Element ID of the input file picker element.\n",
              " * @param {string} outputId Element ID of the output display.\n",
              " * @return {!Iterable<!Object>} Iterable of next steps.\n",
              " */\n",
              "function* uploadFilesStep(inputId, outputId) {\n",
              "  const inputElement = document.getElementById(inputId);\n",
              "  inputElement.disabled = false;\n",
              "\n",
              "  const outputElement = document.getElementById(outputId);\n",
              "  outputElement.innerHTML = '';\n",
              "\n",
              "  const pickedPromise = new Promise((resolve) => {\n",
              "    inputElement.addEventListener('change', (e) => {\n",
              "      resolve(e.target.files);\n",
              "    });\n",
              "  });\n",
              "\n",
              "  const cancel = document.createElement('button');\n",
              "  inputElement.parentElement.appendChild(cancel);\n",
              "  cancel.textContent = 'Cancel upload';\n",
              "  const cancelPromise = new Promise((resolve) => {\n",
              "    cancel.onclick = () => {\n",
              "      resolve(null);\n",
              "    };\n",
              "  });\n",
              "\n",
              "  // Wait for the user to pick the files.\n",
              "  const files = yield {\n",
              "    promise: Promise.race([pickedPromise, cancelPromise]),\n",
              "    response: {\n",
              "      action: 'starting',\n",
              "    }\n",
              "  };\n",
              "\n",
              "  cancel.remove();\n",
              "\n",
              "  // Disable the input element since further picks are not allowed.\n",
              "  inputElement.disabled = true;\n",
              "\n",
              "  if (!files) {\n",
              "    return {\n",
              "      response: {\n",
              "        action: 'complete',\n",
              "      }\n",
              "    };\n",
              "  }\n",
              "\n",
              "  for (const file of files) {\n",
              "    const li = document.createElement('li');\n",
              "    li.append(span(file.name, {fontWeight: 'bold'}));\n",
              "    li.append(span(\n",
              "        `(${file.type || 'n/a'}) - ${file.size} bytes, ` +\n",
              "        `last modified: ${\n",
              "            file.lastModifiedDate ? file.lastModifiedDate.toLocaleDateString() :\n",
              "                                    'n/a'} - `));\n",
              "    const percent = span('0% done');\n",
              "    li.appendChild(percent);\n",
              "\n",
              "    outputElement.appendChild(li);\n",
              "\n",
              "    const fileDataPromise = new Promise((resolve) => {\n",
              "      const reader = new FileReader();\n",
              "      reader.onload = (e) => {\n",
              "        resolve(e.target.result);\n",
              "      };\n",
              "      reader.readAsArrayBuffer(file);\n",
              "    });\n",
              "    // Wait for the data to be ready.\n",
              "    let fileData = yield {\n",
              "      promise: fileDataPromise,\n",
              "      response: {\n",
              "        action: 'continue',\n",
              "      }\n",
              "    };\n",
              "\n",
              "    // Use a chunked sending to avoid message size limits. See b/62115660.\n",
              "    let position = 0;\n",
              "    do {\n",
              "      const length = Math.min(fileData.byteLength - position, MAX_PAYLOAD_SIZE);\n",
              "      const chunk = new Uint8Array(fileData, position, length);\n",
              "      position += length;\n",
              "\n",
              "      const base64 = btoa(String.fromCharCode.apply(null, chunk));\n",
              "      yield {\n",
              "        response: {\n",
              "          action: 'append',\n",
              "          file: file.name,\n",
              "          data: base64,\n",
              "        },\n",
              "      };\n",
              "\n",
              "      let percentDone = fileData.byteLength === 0 ?\n",
              "          100 :\n",
              "          Math.round((position / fileData.byteLength) * 100);\n",
              "      percent.textContent = `${percentDone}% done`;\n",
              "\n",
              "    } while (position < fileData.byteLength);\n",
              "  }\n",
              "\n",
              "  // All done.\n",
              "  yield {\n",
              "    response: {\n",
              "      action: 'complete',\n",
              "    }\n",
              "  };\n",
              "}\n",
              "\n",
              "scope.google = scope.google || {};\n",
              "scope.google.colab = scope.google.colab || {};\n",
              "scope.google.colab._files = {\n",
              "  _uploadFiles,\n",
              "  _uploadFilesContinue,\n",
              "};\n",
              "})(self);\n",
              "</script> "
            ]
          },
          "metadata": {}
        },
        {
          "output_type": "stream",
          "name": "stdout",
          "text": [
            "Saving Automobile.csv to Automobile.csv\n"
          ]
        }
      ]
    },
    {
      "cell_type": "code",
      "source": [
        "# Pra-pemrosesan data\n",
        "numeric_features = ['highway-mpg', 'city-mpg', 'peak-rpm', 'horsepower',\n",
        "                    'compression-ratio', 'stroke', 'bore', 'engine-size',\n",
        "                    'wheel-base']\n",
        "target = 'price'\n",
        "\n",
        "# Hapus nilai null pada kolom yang digunakan\n",
        "df_model = df[numeric_features + [target]].dropna()\n",
        "\n",
        "# Pisahkan fitur dan target\n",
        "X = df_model[numeric_features]\n",
        "y = df_model[target]\n",
        "\n",
        "# Split data\n",
        "X_train, X_test, y_train, y_test = train_test_split(X, y, test_size=0.2, random_state=42)\n"
      ],
      "metadata": {
        "id": "jvn7GbfiPYng"
      },
      "execution_count": 3,
      "outputs": []
    },
    {
      "cell_type": "code",
      "source": [
        "# Model Bagging (Random Forest)\n",
        "rf = RandomForestRegressor(random_state=42)\n",
        "rf.fit(X_train, y_train)\n",
        "rf_preds = rf.predict(X_test)\n",
        "\n",
        "# Model Boosting (Gradient Boosting)\n",
        "gb = GradientBoostingRegressor(random_state=42)\n",
        "gb.fit(X_train, y_train)\n",
        "gb_preds = gb.predict(X_test)"
      ],
      "metadata": {
        "id": "D94R_glWPcWx"
      },
      "execution_count": 4,
      "outputs": []
    },
    {
      "cell_type": "code",
      "source": [
        "# Evaluasi\n",
        "def evaluate_model(name, y_true, y_pred):\n",
        "    mse = mean_squared_error(y_true, y_pred)\n",
        "    rmse = np.sqrt(mse)\n",
        "    r2 = r2_score(y_true, y_pred)\n",
        "    return {\n",
        "        'Model': name,\n",
        "        'MSE': mse,\n",
        "        'RMSE': rmse,\n",
        "        'R^2': r2\n",
        "    }\n",
        "\n",
        "rf_result = evaluate_model(\"Random Forest (Bagging)\", y_test, rf_preds)\n",
        "gb_result = evaluate_model(\"Gradient Boosting (Boosting)\", y_test, gb_preds)\n",
        "\n",
        "# Tampilkan hasil\n",
        "results_df = pd.DataFrame([rf_result, gb_result])\n",
        "print(results_df)"
      ],
      "metadata": {
        "colab": {
          "base_uri": "https://localhost:8080/"
        },
        "id": "VUEJfh3dPiu_",
        "outputId": "cf96f250-81bb-4f8d-df8a-68f4fcdd5584"
      },
      "execution_count": 5,
      "outputs": [
        {
          "output_type": "stream",
          "name": "stdout",
          "text": [
            "                          Model           MSE         RMSE       R^2\n",
            "0       Random Forest (Bagging)  1.355074e+07  3681.133434  0.888260\n",
            "1  Gradient Boosting (Boosting)  1.325563e+07  3640.828012  0.890694\n"
          ]
        }
      ]
    },
    {
      "cell_type": "markdown",
      "source": [
        "\n",
        "## Penjelasan Matematika Evaluasi Model\n",
        "\n",
        "### **1. MSE (Mean Squared Error)**\n",
        "MSE menghitung rata-rata dari kuadrat selisih antara nilai aktual dan nilai prediksi. Semakin kecil nilai MSE, maka model prediksi semakin akurat.\n",
        "\n",
        "![image.png](data:image/png;base64,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)\n",
        "\n",
        "- \\( n \\): jumlah data\n",
        "- \\( yi \\): nilai aktual ke-i\n",
        "- \\(y^i): nilai prediksi ke-i\n",
        "\n",
        "---\n",
        "\n",
        "### **2. RMSE (Root Mean Squared Error)**\n",
        "\n",
        "![image.png](data:image/png;base64,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)\n",
        "\n",
        "RMSE memberikan kesalahan dalam satuan asli, misalnya jika target adalah dolar, RMSE juga dalam dolar.\n",
        "\n",
        "---\n",
        "\n",
        "### **3. R² (R-squared)**\n",
        "\n",
        "R² menunjukkan seberapa baik model memprediksi dibandingkan dengan model rata-rata. Nilainya berkisar dari 0 sampai 1 (kadang bisa negatif jika model sangat buruk).\n",
        "\n",
        "![image.png](data:image/png;base64,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)\n",
        "\n",
        "- Nilai R² mendekati 1 artinya model sangat baik\n",
        "- Nilai R² negatif berarti model lebih buruk dari rata-rata\n"
      ],
      "metadata": {
        "id": "Etkyyg5VRLje"
      }
    }
  ]
}